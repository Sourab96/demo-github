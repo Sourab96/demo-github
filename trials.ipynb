{
  "nbformat": 4,
  "nbformat_minor": 0,
  "metadata": {
    "colab": {
      "provenance": [],
      "authorship_tag": "ABX9TyOdzfBvg/yyh+WeaZrLGrht",
      "include_colab_link": true
    },
    "kernelspec": {
      "name": "python3",
      "display_name": "Python 3"
    },
    "language_info": {
      "name": "python"
    }
  },
  "cells": [
    {
      "cell_type": "markdown",
      "metadata": {
        "id": "view-in-github",
        "colab_type": "text"
      },
      "source": [
        "<a href=\"https://colab.research.google.com/github/Sourab96/demo-github/blob/main/trials.ipynb\" target=\"_parent\"><img src=\"https://colab.research.google.com/assets/colab-badge.svg\" alt=\"Open In Colab\"/></a>"
      ]
    },
    {
      "cell_type": "code",
      "execution_count": null,
      "metadata": {
        "colab": {
          "base_uri": "https://localhost:8080/"
        },
        "id": "hMGpDw9S3t5r",
        "outputId": "0da02b0c-bcfd-4654-a217-8200a329ebd8"
      },
      "outputs": [
        {
          "output_type": "stream",
          "name": "stdout",
          "text": [
            "hello\n"
          ]
        }
      ],
      "source": [
        "print(\"hello\")"
      ]
    },
    {
      "cell_type": "code",
      "source": [
        "arr=[]\n",
        "n=int(input(\"Enter the number of values : \"))\n",
        "for i in range(n):\n",
        "  a=int(input(\"Enter a number \"))\n",
        "  arr.append(a)\n",
        "print(arr)"
      ],
      "metadata": {
        "colab": {
          "base_uri": "https://localhost:8080/"
        },
        "id": "MQPUsQJC7d7R",
        "outputId": "39ca9783-59a0-49a3-d221-4b2aa7086fd0"
      },
      "execution_count": null,
      "outputs": [
        {
          "output_type": "stream",
          "name": "stdout",
          "text": [
            "Enter the number of values : 2\n",
            "Enter a number 3\n",
            "Enter a number 2\n",
            "[3, 2]\n"
          ]
        }
      ]
    },
    {
      "cell_type": "code",
      "source": [
        "a=input(\"Enter the numbers\").split()\n",
        "print(a)"
      ],
      "metadata": {
        "colab": {
          "base_uri": "https://localhost:8080/"
        },
        "id": "g-lXjU3c9me1",
        "outputId": "5d481a5c-1dbd-4775-e239-ad625774bfdf"
      },
      "execution_count": null,
      "outputs": [
        {
          "output_type": "stream",
          "name": "stdout",
          "text": [
            "Enter the numbersa b\n",
            "['a', 'b']\n"
          ]
        }
      ]
    },
    {
      "cell_type": "code",
      "source": [
        "a= list(map(int,input(\"enter the numbers \").split()))\n",
        "print(a)"
      ],
      "metadata": {
        "colab": {
          "base_uri": "https://localhost:8080/"
        },
        "id": "5FQLiKQe98lt",
        "outputId": "186ac98c-1bf6-4254-d1db-84fb6d22b4e3"
      },
      "execution_count": null,
      "outputs": [
        {
          "output_type": "stream",
          "name": "stdout",
          "text": [
            "enter the numbers 1 2 3 4 5 6\n",
            "[1, 2, 3, 4, 5, 6]\n"
          ]
        }
      ]
    },
    {
      "cell_type": "code",
      "source": [
        "h= list(map(int,input(\"Enter the numbers \").split()))\n",
        "print(h)\n",
        "#sum=0\n",
        "#for i in range(len(a)):\n",
        "#  sum=sum+a[i]\n",
        "#avg=sum/(len(a))\n",
        "#print(avg)\n",
        "z=sum(h)/len(h)\n",
        "print(\"average\",z)\n",
        "\n",
        "i=(len(h)//2)\n",
        "print('median',h[i])\n",
        "\n",
        "count=0\n",
        "mode=0\n",
        "for j in h:\n",
        "  if h.count(j)>count:\n",
        "    count=h.count(j)\n",
        "    mode=j\n",
        "print(\"mode\",mode)\n",
        "\n"
      ],
      "metadata": {
        "colab": {
          "base_uri": "https://localhost:8080/"
        },
        "id": "jBvTLhdi-tOn",
        "outputId": "704bfc52-1ac5-4255-ed0e-744191e99fda"
      },
      "execution_count": null,
      "outputs": [
        {
          "output_type": "stream",
          "name": "stdout",
          "text": [
            "Enter the numbers 1 2 3 4 5 6 6 \n",
            "[1, 2, 3, 4, 5, 6, 6]\n",
            "average 3.857142857142857\n",
            "median 4\n",
            "mode 6\n"
          ]
        }
      ]
    },
    {
      "cell_type": "code",
      "source": [
        "string= input(\"Enter the string : \")\n",
        "print(string)\n",
        "count=0\n",
        "for j in range(len(string)):\n",
        "  if(string[j]=='a' or string[j]=='e' or string[j]=='i' or string[j]=='o' or string[j]=='u'):\n",
        "    count=count+1\n",
        "print(count)\n",
        "\n",
        "\n"
      ],
      "metadata": {
        "colab": {
          "base_uri": "https://localhost:8080/"
        },
        "id": "V64jp9r8KJAN",
        "outputId": "8000a23a-b746-4b4c-a226-b86cfedace65"
      },
      "execution_count": null,
      "outputs": [
        {
          "output_type": "stream",
          "name": "stdout",
          "text": [
            "Enter the string : hello\n",
            "hello\n",
            "2\n"
          ]
        }
      ]
    },
    {
      "cell_type": "code",
      "source": [
        "st=input(\"Enter the string\")\n",
        "vow=('a','e','i','o','u')\n",
        "cnt=o\n",
        "for i in st if i.lower() in vow:\n",
        "  cnt+=1\n",
        "print(\"No.of vowels\",cnt)\n",
        "print(\"No of consents\",len(st)-cnt)"
      ],
      "metadata": {
        "id": "qD1kT1KbNJ5X",
        "colab": {
          "base_uri": "https://localhost:8080/",
          "height": 131
        },
        "outputId": "44d38be1-9286-4909-d6b7-0e7f1f8cf61b"
      },
      "execution_count": null,
      "outputs": [
        {
          "output_type": "error",
          "ename": "SyntaxError",
          "evalue": "ignored",
          "traceback": [
            "\u001b[0;36m  File \u001b[0;32m\"<ipython-input-21-6a9aa1b4761a>\"\u001b[0;36m, line \u001b[0;32m4\u001b[0m\n\u001b[0;31m    for i in st if i.lower() in vow:\u001b[0m\n\u001b[0m                                   ^\u001b[0m\n\u001b[0;31mSyntaxError\u001b[0m\u001b[0;31m:\u001b[0m invalid syntax\n"
          ]
        }
      ]
    },
    {
      "cell_type": "code",
      "source": [
        "str1=lower(input(\"Enter the first string :\"))\n",
        "str2=lower(input(\"Enter the second string : \"))\n",
        "cnt=0\n",
        "for i in range(len(str1)):\n",
        "  for j in range(len(str2)):\n",
        "    if str1[i]==str2[j]:\n",
        "      cnt=cnt+1\n",
        "      break;\n",
        "if (cnt==len(str1) and cnt==len(str2)):\n",
        "  print(\"yes\")\n",
        "else:\n",
        "  print(\"no\")\n",
        "\n"
      ],
      "metadata": {
        "colab": {
          "base_uri": "https://localhost:8080/"
        },
        "id": "4O_1r6g2N2mb",
        "outputId": "20b5cf04-0a00-40de-985c-743983acd450"
      },
      "execution_count": null,
      "outputs": [
        {
          "output_type": "stream",
          "name": "stdout",
          "text": [
            "Enter the first string :hello\n",
            "Enter the second string : olleh\n",
            "yes\n"
          ]
        }
      ]
    },
    {
      "cell_type": "code",
      "source": [
        "str1=input(\"Enter the first string :\")\n",
        "str2=input(\"Enter the second string : \")\n",
        "if sorted(str1.lower())==sorted(str2.lower()):\n",
        "  print(\"Anagram\")\n",
        "else:\n",
        "  print(\"Not anagram\")"
      ],
      "metadata": {
        "id": "nddaxaKUOXgs"
      },
      "execution_count": null,
      "outputs": []
    },
    {
      "cell_type": "code",
      "source": [
        "str=input(\"Enter the string\")\n",
        "ref= [' abcdefghijklmnopqrstuvwxyz']\n",
        "flag=True\n",
        "for i in ref:\n",
        "  if i not in string.lower():\n",
        "    flag=False\n",
        "    break \n",
        "if flag:\n",
        "    print('Pangram')\n",
        "else:\n",
        "    print(\"Not\")"
      ],
      "metadata": {
        "colab": {
          "base_uri": "https://localhost:8080/"
        },
        "id": "6IP6wDVVcVz5",
        "outputId": "64931d18-086e-42df-e035-385a8bf431ed"
      },
      "execution_count": null,
      "outputs": [
        {
          "output_type": "stream",
          "name": "stdout",
          "text": [
            "Enter the stringhgv\n",
            "Not\n"
          ]
        }
      ]
    },
    {
      "cell_type": "code",
      "source": [
        "a=input(\"Enter a number : \").split()\n",
        "print(a)"
      ],
      "metadata": {
        "colab": {
          "base_uri": "https://localhost:8080/"
        },
        "id": "k-fyExfWdnFU",
        "outputId": "2d4d0182-b6bc-43dc-d3ae-0bef1d2abb42"
      },
      "execution_count": null,
      "outputs": [
        {
          "output_type": "stream",
          "name": "stdout",
          "text": [
            "Enter a number : 1 2 3 4 5\n",
            "['1', '2', '3', '4', '5']\n"
          ]
        }
      ]
    },
    {
      "cell_type": "code",
      "source": [
        "arr=list(map(int,input(\"Enter the array : \")))\n",
        "print(arr)\n",
        "val=5\n"
      ],
      "metadata": {
        "id": "qhSIv1JcZeyl"
      },
      "execution_count": null,
      "outputs": []
    },
    {
      "cell_type": "code",
      "source": [
        "arr=[1,2,3,4,5,1,2,3,4,5,6]\n",
        "print(set(arr))\n",
        "a=[]\n",
        "for i in set(arr):\n",
        "  a.append(i)\n",
        "print(a)\n",
        "\n",
        "  "
      ],
      "metadata": {
        "colab": {
          "base_uri": "https://localhost:8080/"
        },
        "id": "H6fYX_EuIPZq",
        "outputId": "f5ad18d3-cb58-45d6-8070-ac5bd66c827e"
      },
      "execution_count": null,
      "outputs": [
        {
          "output_type": "stream",
          "name": "stdout",
          "text": [
            "{1, 2, 3, 4, 5, 6}\n",
            "[1, 2, 3, 4, 5, 6]\n"
          ]
        }
      ]
    },
    {
      "cell_type": "code",
      "source": [
        "arr= list(map(int,input(\"Enter the numbers \").split()))\n",
        "print(arr)\n",
        "val=5\n",
        "s=0\n",
        "for i in range(len(arr)):\n",
        "    for j in range(i,len(arr)):\n",
        "        if val==arr[i]+arr[j]:\n",
        "            s=s+1\n",
        "\n",
        "print(s)"
      ],
      "metadata": {
        "id": "FiOgljnyQKHY"
      },
      "execution_count": null,
      "outputs": []
    },
    {
      "cell_type": "code",
      "source": [
        "arr1=list(map(int,input(\"Enter the array1 : \").split()))\n",
        "set1=set(arr1)\n",
        "print(set1)\n",
        "arr2=list(map(int,input(\"Enter the array2 : \").split()))\n",
        "print(\"array2\",arr2)\n",
        "set2=set(arr2)\n",
        "print(set2)\n",
        "if set1.intersection(set2):\n",
        "  print(\"It is a subset\")\n",
        "else:\n",
        "  print(\"no\")\n",
        "\n",
        "\n"
      ],
      "metadata": {
        "colab": {
          "base_uri": "https://localhost:8080/"
        },
        "id": "8gtMCGPoJlk1",
        "outputId": "c0be69ed-54f5-41e6-c7e7-1e916a684573"
      },
      "execution_count": null,
      "outputs": [
        {
          "output_type": "stream",
          "name": "stdout",
          "text": [
            "Enter the array1 : 1 2 3 4\n",
            "{1, 2, 3, 4}\n",
            "Enter the array2 : 7 8 9\n",
            "{8, 9, 7}\n",
            "no\n"
          ]
        }
      ]
    },
    {
      "cell_type": "code",
      "source": [
        "list1=list(map(int,input(\"Enter the list\").split()))\n",
        "set1=set(list1)\n",
        "flag=0\n",
        "for i in set1:\n",
        "  count=0\n",
        "  for j in range(len(list1)):\n",
        "    if i==list1[j]:\n",
        "      count=count+1\n",
        "  if count>1:\n",
        "    print(\"Number repeating\",i)\n",
        "    flag=1\n",
        "if flag==0:\n",
        "  print(\"No number is repeating\")\n",
        "  \n",
        "\n"
      ],
      "metadata": {
        "colab": {
          "base_uri": "https://localhost:8080/"
        },
        "id": "3ewEBoMoJlqw",
        "outputId": "bea864db-79bb-45e7-a325-9e5c58800073"
      },
      "execution_count": null,
      "outputs": [
        {
          "output_type": "stream",
          "name": "stdout",
          "text": [
            "Enter the list1 2 3 4 5\n",
            "No number is repeating\n"
          ]
        }
      ]
    },
    {
      "cell_type": "code",
      "source": [
        "list1=list(map(int,input(\"Enter the list\").split()))\n",
        "set1=set(list1)\n",
        "\n",
        "for i in set1:\n",
        "  if list1.count(i)>1:\n",
        "    print(i )"
      ],
      "metadata": {
        "colab": {
          "base_uri": "https://localhost:8080/"
        },
        "id": "D4EIZUFjOroU",
        "outputId": "a2bfc83e-0168-4e8e-c152-8b45e5fc391a"
      },
      "execution_count": null,
      "outputs": [
        {
          "output_type": "stream",
          "name": "stdout",
          "text": [
            "Enter the list1 2 3 4 3\n",
            "3\n"
          ]
        }
      ]
    },
    {
      "cell_type": "code",
      "source": [
        "str1=input(\"Enter the first string : \")\n",
        "print(str1)\n",
        "str2=input(\"Enter the sub string \")\n",
        "print(str2)\n",
        "if str2 in str1:\n",
        "  print(\"yes\")\n",
        "else:\n",
        "  print(\"No\")\n",
        "\n"
      ],
      "metadata": {
        "colab": {
          "base_uri": "https://localhost:8080/"
        },
        "id": "z-xHSvp1Oy4t",
        "outputId": "42c33a7e-c7d2-49df-ffd7-f2c5bf083d1a"
      },
      "execution_count": null,
      "outputs": [
        {
          "output_type": "stream",
          "name": "stdout",
          "text": [
            "Enter the first string : sourab\n",
            "sourab\n",
            "Enter the sub string our\n",
            "our\n",
            "yes\n"
          ]
        }
      ]
    },
    {
      "cell_type": "code",
      "source": [
        "# wap to change Snake Casing to Pascal Casing\n",
        "#hello_world      ->     HelloWorld\n",
        "\n",
        "str1=input(\"Enter the string \")\n",
        "lis=str1.split('_')\n",
        "print(lis)\n",
        "print(''.join(lis))\n",
        "res=''\n",
        "for i in lis:\n",
        "  res+=i.capitalize() #will capitalize only first letter\n",
        "print(res)\n",
        "\"\"\"for i in range(len(lis)):\n",
        "  lis[i]=lis[i].capitalize()\n",
        "print(''.join(lis))\"\"\""
      ],
      "metadata": {
        "colab": {
          "base_uri": "https://localhost:8080/",
          "height": 105
        },
        "id": "BP4PUAdwQRBb",
        "outputId": "5d3b1188-74a8-4198-fb00-611f3aebe431"
      },
      "execution_count": null,
      "outputs": [
        {
          "output_type": "stream",
          "name": "stdout",
          "text": [
            "Enter the string hello_world\n",
            "['hello', 'world']\n",
            "helloworld\n",
            "HelloWorld\n"
          ]
        },
        {
          "output_type": "execute_result",
          "data": {
            "text/plain": [
              "\"for i in range(len(lis)):\\n  lis[i]=lis[i].capitalize()\\nprint(''.join(lis))\""
            ],
            "application/vnd.google.colaboratory.intrinsic+json": {
              "type": "string"
            }
          },
          "metadata": {},
          "execution_count": 34
        }
      ]
    },
    {
      "cell_type": "code",
      "source": [
        "#wap to check whether a given string is a palindrome\n",
        "\n",
        "\"\"\"st=\"Hello World\"\n",
        "st[1]\n",
        "st[1:5]\n",
        "st[5::-1]\n",
        "st[5::-1]\n",
        "st[::-1]\"\"\"\n",
        "\n",
        "str1=input()\n",
        "str2=str1[::-1]\n",
        "if str1==str2:\n",
        "  print(\"Palindrome\")\n",
        "else:\n",
        "  print(\"Not a palindrome\")"
      ],
      "metadata": {
        "colab": {
          "base_uri": "https://localhost:8080/"
        },
        "id": "7wX626cWcpoh",
        "outputId": "5723a5fb-edb9-430a-f06d-9c9c9a5db90d"
      },
      "execution_count": null,
      "outputs": [
        {
          "output_type": "stream",
          "name": "stdout",
          "text": [
            "sourab\n",
            "Not a palindrome\n"
          ]
        }
      ]
    },
    {
      "cell_type": "code",
      "source": [
        "#wap to check if there is a palindromic substring in a given string\n",
        "\n",
        "\n",
        "\"\"\"str1=input(\"Enter the string \")\n",
        "flag=0\n",
        "for i in range(len(str1)):\n",
        "   for j in range(len(str1),i,-1):\n",
        "     if str1[i:j]==str1[j:i:-1]:\n",
        "       flag=1\n",
        "       break;\n",
        "if flag:\n",
        "  print(\"yes\")\n",
        "else:\n",
        "  print(\"No\")\n",
        "\n",
        " ***original code***\"\"\"\n",
        "st=input(\"Enter the string \")\n",
        "cnt=0\n",
        "pal_str=''\n",
        "for i in range(len(st)):\n",
        "   for j in range(len(st),i,-1):\n",
        "      if i==1 and st==st[::-1]:\n",
        "        pal_str=st\n",
        "        cnt=len(st)\n",
        "        break\n",
        "      if st[i:j]==st[j:1:-1]:\n",
        "          if len(st[i:j])>cnt:\n",
        "              pal_str=st[i:j]\n",
        "              cnt=len(st[i:j])\n",
        "if pal_str!='':\n",
        "    print(pal_str,'--',cnt)\n",
        "\n"
      ],
      "metadata": {
        "colab": {
          "base_uri": "https://localhost:8080/"
        },
        "id": "mmhGNOzDfUva",
        "outputId": "d8ed10d9-d7ea-4083-c317-b5f4b774bd29"
      },
      "execution_count": null,
      "outputs": [
        {
          "output_type": "stream",
          "name": "stdout",
          "text": [
            "Enter the string abbccbbaabcab\n",
            "bbccb -- 5\n"
          ]
        }
      ]
    },
    {
      "cell_type": "code",
      "source": [
        "#wap to print the longest palindromic sub string\n",
        "\n",
        "str1=input(\"Enter the string \")\n",
        "count=0\n",
        "for i in range(len(str1)):\n",
        "   for j in range(len(str1),i,-1):\n",
        "     if str1[i:j]==str1[j:i:-1]:\n",
        "       if len(str1[i:j])>count:\n",
        "          count=len(str1[i:j])\n",
        "          sequence=str1[i:j+1]\n",
        "print(sequence) "
      ],
      "metadata": {
        "colab": {
          "base_uri": "https://localhost:8080/"
        },
        "id": "TX7hePaDlF9T",
        "outputId": "c6c442a4-b134-410d-a0ef-1cf94372eb36"
      },
      "execution_count": null,
      "outputs": [
        {
          "output_type": "stream",
          "name": "stdout",
          "text": [
            "Enter the string helloolleh\n",
            "helloolleh\n"
          ]
        }
      ]
    },
    {
      "cell_type": "code",
      "source": [
        "#wap to \n",
        "\n",
        "\n",
        "\n",
        "c,h,o=map(int,input(\"Enter the values :\").split())\n",
        "print(c,h,o)\n",
        "g=(4*c-2*o+h)/24\n",
        "w=(h+2*o-4*c)/4\n",
        "x=(2*o-h)/4\n",
        "\n",
        "if (g!=int(g) or w!=int(w) or x!=int(x)):\n",
        "  print(\"Error\")\n",
        "elif(g<0 or w<0 or x<0):\n",
        "  print(\"Error\")\n",
        "else:\n",
        "  print(str(int(w))+' '+str(int(x))+' '+str(int(g)))\n",
        "  "
      ],
      "metadata": {
        "colab": {
          "base_uri": "https://localhost:8080/"
        },
        "id": "mxAD-b1PNdD6",
        "outputId": "35a86992-3dcb-496f-d96c-02816ca5c3fc"
      },
      "execution_count": null,
      "outputs": [
        {
          "output_type": "stream",
          "name": "stdout",
          "text": [
            "Enter the values :2 3 4\n",
            "2 3 4\n",
            "Error\n"
          ]
        }
      ]
    },
    {
      "cell_type": "code",
      "source": [
        "#wap to capitalize all the vowels in a string\n",
        "\n",
        "str1=input(\"Enter the string : \")\n",
        "test=('a','e','i','o','u')\n",
        "for i in str1:\n",
        "  if i in test:\n",
        "    str1=str1.replace(i,i.upper())\n",
        "print(str1)\n",
        "\n",
        "\"\"\"st=input()\n",
        "  for i in st:\n",
        "    if i in 'aeiou':\n",
        "      i=i.upper()\n",
        "    res=res+i\n",
        "  print(res)\"\"\" "
      ],
      "metadata": {
        "id": "CguB6rfdQuMs",
        "colab": {
          "base_uri": "https://localhost:8080/"
        },
        "outputId": "b2291573-5e09-4f88-dc64-c93188987a74"
      },
      "execution_count": null,
      "outputs": [
        {
          "output_type": "stream",
          "name": "stdout",
          "text": [
            "Enter the string : hello world\n",
            "hEllO wOrld\n"
          ]
        }
      ]
    },
    {
      "cell_type": "code",
      "source": [
        "#wap to check if a given no. is a perfect square\n",
        "\n",
        "a=int(input(\"Enter a number: \"))\n",
        "b=a**(1/2)\n",
        "if b!=int(b):\n",
        "  print(\"Not a perfect square : \",b)\n",
        "else:\n",
        "  print(\"Perfect square : \",b)\n"
      ],
      "metadata": {
        "colab": {
          "base_uri": "https://localhost:8080/"
        },
        "id": "RYiToBX4e061",
        "outputId": "ad2b4ef1-dff9-4122-8fc1-415d2e23f1cf"
      },
      "execution_count": null,
      "outputs": [
        {
          "output_type": "stream",
          "name": "stdout",
          "text": [
            "Enter a number: 7\n",
            "Not a perfect square :  2.6457513110645907\n"
          ]
        }
      ]
    },
    {
      "cell_type": "code",
      "source": [
        "#wap to check the given number is an armstrong number\n",
        "\n",
        "n=int(input(\"Enter a number\"))\n",
        "rem=n\n",
        "sum=0\n",
        "while rem>0:\n",
        "  div=int(rem%10)\n",
        "  rem=int(rem/10)\n",
        "  sum+=div*div*div\n",
        "print(sum)\n",
        "if sum==n:\n",
        "  print(\"yes\")\n",
        "else:\n",
        "  print(\"no\")\n",
        "\n",
        "\n",
        "\n",
        "\n",
        "\n",
        "num=input()\n",
        "res=0\n",
        "for i in str(num):\n",
        "  j=int(i)**3\n",
        "  res+=j\n",
        "if res==num:\n",
        "  print('armstrong number')\n",
        "else:\n",
        "  print(\"Not armstrong\")\n"
      ],
      "metadata": {
        "colab": {
          "base_uri": "https://localhost:8080/"
        },
        "id": "7_Wox_nlfBOf",
        "outputId": "cf56e1d5-008a-44fd-952b-dd6123f4ea53"
      },
      "execution_count": null,
      "outputs": [
        {
          "output_type": "stream",
          "name": "stdout",
          "text": [
            "Enter a number153\n",
            "153\n",
            "yes\n"
          ]
        }
      ]
    },
    {
      "cell_type": "code",
      "source": [
        "mov=list(input(\"Enter the movie name : \"))\n",
        "temp=[]\n",
        "for i in range(len(mov)):\n",
        "  temp.append('_')\n",
        "print(temp)\n",
        "for k in range(len(mov)):\n",
        "  guess=input(\"Enter your guess: \")\n",
        "  if len(guess)==1:\n",
        "    if guess in mov:\n",
        "      i=mov.index(guess)\n",
        "      for j in range(len(mov)):\n",
        "        if j==i:\n",
        "          temp[j]=mov[j]  \n",
        "      print(\" \".join(temp))\n",
        "    else:\n",
        "      print(\"Wrong guess\")\n",
        "  else:\n",
        "    print(\"Not a single character \")\n",
        "if temp==mov:\n",
        "    print(\"You have won \")\n",
        "else:\n",
        "    print(\"You have lost \")"
      ],
      "metadata": {
        "id": "107qEoJJlDl6",
        "colab": {
          "base_uri": "https://localhost:8080/",
          "height": 381
        },
        "outputId": "2c852532-c660-476e-c06d-f8f7a8ea390c"
      },
      "execution_count": 46,
      "outputs": [
        {
          "output_type": "error",
          "ename": "KeyboardInterrupt",
          "evalue": "ignored",
          "traceback": [
            "\u001b[0;31m---------------------------------------------------------------------------\u001b[0m",
            "\u001b[0;31mKeyboardInterrupt\u001b[0m                         Traceback (most recent call last)",
            "\u001b[0;32m<ipython-input-46-4abc404caa3d>\u001b[0m in \u001b[0;36m<module>\u001b[0;34m\u001b[0m\n\u001b[0;32m----> 1\u001b[0;31m \u001b[0mmov\u001b[0m\u001b[0;34m=\u001b[0m\u001b[0mlist\u001b[0m\u001b[0;34m(\u001b[0m\u001b[0minput\u001b[0m\u001b[0;34m(\u001b[0m\u001b[0;34m\"Enter the movie name : \"\u001b[0m\u001b[0;34m)\u001b[0m\u001b[0;34m)\u001b[0m\u001b[0;34m\u001b[0m\u001b[0;34m\u001b[0m\u001b[0m\n\u001b[0m\u001b[1;32m      2\u001b[0m \u001b[0mtemp\u001b[0m\u001b[0;34m=\u001b[0m\u001b[0;34m[\u001b[0m\u001b[0;34m]\u001b[0m\u001b[0;34m\u001b[0m\u001b[0;34m\u001b[0m\u001b[0m\n\u001b[1;32m      3\u001b[0m \u001b[0;32mfor\u001b[0m \u001b[0mi\u001b[0m \u001b[0;32min\u001b[0m \u001b[0mrange\u001b[0m\u001b[0;34m(\u001b[0m\u001b[0mlen\u001b[0m\u001b[0;34m(\u001b[0m\u001b[0mmov\u001b[0m\u001b[0;34m)\u001b[0m\u001b[0;34m)\u001b[0m\u001b[0;34m:\u001b[0m\u001b[0;34m\u001b[0m\u001b[0;34m\u001b[0m\u001b[0m\n\u001b[1;32m      4\u001b[0m   \u001b[0mtemp\u001b[0m\u001b[0;34m.\u001b[0m\u001b[0mappend\u001b[0m\u001b[0;34m(\u001b[0m\u001b[0;34m'_'\u001b[0m\u001b[0;34m)\u001b[0m\u001b[0;34m\u001b[0m\u001b[0;34m\u001b[0m\u001b[0m\n\u001b[1;32m      5\u001b[0m \u001b[0mprint\u001b[0m\u001b[0;34m(\u001b[0m\u001b[0mtemp\u001b[0m\u001b[0;34m)\u001b[0m\u001b[0;34m\u001b[0m\u001b[0;34m\u001b[0m\u001b[0m\n",
            "\u001b[0;32m/usr/local/lib/python3.8/dist-packages/ipykernel/kernelbase.py\u001b[0m in \u001b[0;36mraw_input\u001b[0;34m(self, prompt)\u001b[0m\n\u001b[1;32m    858\u001b[0m                 \u001b[0;34m\"raw_input was called, but this frontend does not support input requests.\"\u001b[0m\u001b[0;34m\u001b[0m\u001b[0;34m\u001b[0m\u001b[0m\n\u001b[1;32m    859\u001b[0m             )\n\u001b[0;32m--> 860\u001b[0;31m         return self._input_request(str(prompt),\n\u001b[0m\u001b[1;32m    861\u001b[0m             \u001b[0mself\u001b[0m\u001b[0;34m.\u001b[0m\u001b[0m_parent_ident\u001b[0m\u001b[0;34m,\u001b[0m\u001b[0;34m\u001b[0m\u001b[0;34m\u001b[0m\u001b[0m\n\u001b[1;32m    862\u001b[0m             \u001b[0mself\u001b[0m\u001b[0;34m.\u001b[0m\u001b[0m_parent_header\u001b[0m\u001b[0;34m,\u001b[0m\u001b[0;34m\u001b[0m\u001b[0;34m\u001b[0m\u001b[0m\n",
            "\u001b[0;32m/usr/local/lib/python3.8/dist-packages/ipykernel/kernelbase.py\u001b[0m in \u001b[0;36m_input_request\u001b[0;34m(self, prompt, ident, parent, password)\u001b[0m\n\u001b[1;32m    902\u001b[0m             \u001b[0;32mexcept\u001b[0m \u001b[0mKeyboardInterrupt\u001b[0m\u001b[0;34m:\u001b[0m\u001b[0;34m\u001b[0m\u001b[0;34m\u001b[0m\u001b[0m\n\u001b[1;32m    903\u001b[0m                 \u001b[0;31m# re-raise KeyboardInterrupt, to truncate traceback\u001b[0m\u001b[0;34m\u001b[0m\u001b[0;34m\u001b[0m\u001b[0;34m\u001b[0m\u001b[0m\n\u001b[0;32m--> 904\u001b[0;31m                 \u001b[0;32mraise\u001b[0m \u001b[0mKeyboardInterrupt\u001b[0m\u001b[0;34m(\u001b[0m\u001b[0;34m\"Interrupted by user\"\u001b[0m\u001b[0;34m)\u001b[0m \u001b[0;32mfrom\u001b[0m \u001b[0;32mNone\u001b[0m\u001b[0;34m\u001b[0m\u001b[0;34m\u001b[0m\u001b[0m\n\u001b[0m\u001b[1;32m    905\u001b[0m             \u001b[0;32mexcept\u001b[0m \u001b[0mException\u001b[0m \u001b[0;32mas\u001b[0m \u001b[0me\u001b[0m\u001b[0;34m:\u001b[0m\u001b[0;34m\u001b[0m\u001b[0;34m\u001b[0m\u001b[0m\n\u001b[1;32m    906\u001b[0m                 \u001b[0mself\u001b[0m\u001b[0;34m.\u001b[0m\u001b[0mlog\u001b[0m\u001b[0;34m.\u001b[0m\u001b[0mwarning\u001b[0m\u001b[0;34m(\u001b[0m\u001b[0;34m\"Invalid Message:\"\u001b[0m\u001b[0;34m,\u001b[0m \u001b[0mexc_info\u001b[0m\u001b[0;34m=\u001b[0m\u001b[0;32mTrue\u001b[0m\u001b[0;34m)\u001b[0m\u001b[0;34m\u001b[0m\u001b[0;34m\u001b[0m\u001b[0m\n",
            "\u001b[0;31mKeyboardInterrupt\u001b[0m: Interrupted by user"
          ]
        }
      ]
    },
    {
      "cell_type": "code",
      "source": [
        "d={}\n",
        "d['Name']=list(\"Sourab\")\n",
        "d['Age'] = \"20\"\n",
        "print(d)\n",
        "for i in d:\n",
        "  print(i)#gives keys of dictionary\n",
        "for i in d.values:\n",
        "  print(i)#gives values of dictionary"
      ],
      "metadata": {
        "colab": {
          "base_uri": "https://localhost:8080/"
        },
        "id": "vq1e-W-oUWrA",
        "outputId": "bda2e443-1aeb-40a1-802a-f61a16420fdf"
      },
      "execution_count": 50,
      "outputs": [
        {
          "output_type": "stream",
          "name": "stdout",
          "text": [
            "{'Name': ['S', 'o', 'u', 'r', 'a', 'b'], 'Age': '20'}\n"
          ]
        }
      ]
    },
    {
      "cell_type": "code",
      "source": [
        "# need to collect the id ,name of patient and doctors name\n",
        "\n",
        "n=int(input(\"Enter the number of patients :\"))\n",
        "pat={}\n",
        "for i in range(n):\n",
        "  id=input(\"Enter the id of patient \")\n",
        "  name=input(\"Enter the name of patient \")\n",
        "  d_name=input(\"Enter the doctor's name : \")\n",
        "  pat[id+'_'+name]=d_name\n",
        "doc=doc()\n",
        "for i in pat:\n",
        "  if pat[i] i04n doc:\n",
        "    doc[pat[i]].append(i)  \n",
        "\n",
        "  else:\n",
        "    doc[pat[i]]=[i]\n",
        "\n",
        "print(\"Patient : \", pat)\n",
        "print(\"Doctor : \",doc)\n",
        "\n",
        "\n",
        "  \n",
        "\n"
      ],
      "metadata": {
        "colab": {
          "base_uri": "https://localhost:8080/",
          "height": 398
        },
        "id": "Z8g0KqcSWndH",
        "outputId": "c0465829-821a-447f-d9f0-a54f6f2cc852"
      },
      "execution_count": 56,
      "outputs": [
        {
          "name": "stdout",
          "output_type": "stream",
          "text": [
            "Enter the number of patients :04\n"
          ]
        },
        {
          "output_type": "error",
          "ename": "KeyboardInterrupt",
          "evalue": "ignored",
          "traceback": [
            "\u001b[0;31m---------------------------------------------------------------------------\u001b[0m",
            "\u001b[0;31mKeyboardInterrupt\u001b[0m                         Traceback (most recent call last)",
            "\u001b[0;32m<ipython-input-56-938d8598f631>\u001b[0m in \u001b[0;36m<module>\u001b[0;34m\u001b[0m\n\u001b[1;32m      4\u001b[0m \u001b[0mpat\u001b[0m\u001b[0;34m=\u001b[0m\u001b[0;34m{\u001b[0m\u001b[0;34m}\u001b[0m\u001b[0;34m\u001b[0m\u001b[0;34m\u001b[0m\u001b[0m\n\u001b[1;32m      5\u001b[0m \u001b[0;32mfor\u001b[0m \u001b[0mi\u001b[0m \u001b[0;32min\u001b[0m \u001b[0mrange\u001b[0m\u001b[0;34m(\u001b[0m\u001b[0mn\u001b[0m\u001b[0;34m)\u001b[0m\u001b[0;34m:\u001b[0m\u001b[0;34m\u001b[0m\u001b[0;34m\u001b[0m\u001b[0m\n\u001b[0;32m----> 6\u001b[0;31m   \u001b[0mid\u001b[0m\u001b[0;34m=\u001b[0m\u001b[0minput\u001b[0m\u001b[0;34m(\u001b[0m\u001b[0;34m\"Enter the id of patient \"\u001b[0m\u001b[0;34m)\u001b[0m\u001b[0;34m\u001b[0m\u001b[0;34m\u001b[0m\u001b[0m\n\u001b[0m\u001b[1;32m      7\u001b[0m   \u001b[0mname\u001b[0m\u001b[0;34m=\u001b[0m\u001b[0minput\u001b[0m\u001b[0;34m(\u001b[0m\u001b[0;34m\"Enter the name of patient \"\u001b[0m\u001b[0;34m)\u001b[0m\u001b[0;34m\u001b[0m\u001b[0;34m\u001b[0m\u001b[0m\n\u001b[1;32m      8\u001b[0m   \u001b[0md_name\u001b[0m\u001b[0;34m=\u001b[0m\u001b[0minput\u001b[0m\u001b[0;34m(\u001b[0m\u001b[0;34m\"Enter the doctor's name : \"\u001b[0m\u001b[0;34m)\u001b[0m\u001b[0;34m\u001b[0m\u001b[0;34m\u001b[0m\u001b[0m\n",
            "\u001b[0;32m/usr/local/lib/python3.8/dist-packages/ipykernel/kernelbase.py\u001b[0m in \u001b[0;36mraw_input\u001b[0;34m(self, prompt)\u001b[0m\n\u001b[1;32m    858\u001b[0m                 \u001b[0;34m\"raw_input was called, but this frontend does not support input requests.\"\u001b[0m\u001b[0;34m\u001b[0m\u001b[0;34m\u001b[0m\u001b[0m\n\u001b[1;32m    859\u001b[0m             )\n\u001b[0;32m--> 860\u001b[0;31m         return self._input_request(str(prompt),\n\u001b[0m\u001b[1;32m    861\u001b[0m             \u001b[0mself\u001b[0m\u001b[0;34m.\u001b[0m\u001b[0m_parent_ident\u001b[0m\u001b[0;34m,\u001b[0m\u001b[0;34m\u001b[0m\u001b[0;34m\u001b[0m\u001b[0m\n\u001b[1;32m    862\u001b[0m             \u001b[0mself\u001b[0m\u001b[0;34m.\u001b[0m\u001b[0m_parent_header\u001b[0m\u001b[0;34m,\u001b[0m\u001b[0;34m\u001b[0m\u001b[0;34m\u001b[0m\u001b[0m\n",
            "\u001b[0;32m/usr/local/lib/python3.8/dist-packages/ipykernel/kernelbase.py\u001b[0m in \u001b[0;36m_input_request\u001b[0;34m(self, prompt, ident, parent, password)\u001b[0m\n\u001b[1;32m    902\u001b[0m             \u001b[0;32mexcept\u001b[0m \u001b[0mKeyboardInterrupt\u001b[0m\u001b[0;34m:\u001b[0m\u001b[0;34m\u001b[0m\u001b[0;34m\u001b[0m\u001b[0m\n\u001b[1;32m    903\u001b[0m                 \u001b[0;31m# re-raise KeyboardInterrupt, to truncate traceback\u001b[0m\u001b[0;34m\u001b[0m\u001b[0;34m\u001b[0m\u001b[0;34m\u001b[0m\u001b[0m\n\u001b[0;32m--> 904\u001b[0;31m                 \u001b[0;32mraise\u001b[0m \u001b[0mKeyboardInterrupt\u001b[0m\u001b[0;34m(\u001b[0m\u001b[0;34m\"Interrupted by user\"\u001b[0m\u001b[0;34m)\u001b[0m \u001b[0;32mfrom\u001b[0m \u001b[0;32mNone\u001b[0m\u001b[0;34m\u001b[0m\u001b[0;34m\u001b[0m\u001b[0m\n\u001b[0m\u001b[1;32m    905\u001b[0m             \u001b[0;32mexcept\u001b[0m \u001b[0mException\u001b[0m \u001b[0;32mas\u001b[0m \u001b[0me\u001b[0m\u001b[0;34m:\u001b[0m\u001b[0;34m\u001b[0m\u001b[0;34m\u001b[0m\u001b[0m\n\u001b[1;32m    906\u001b[0m                 \u001b[0mself\u001b[0m\u001b[0;34m.\u001b[0m\u001b[0mlog\u001b[0m\u001b[0;34m.\u001b[0m\u001b[0mwarning\u001b[0m\u001b[0;34m(\u001b[0m\u001b[0;34m\"Invalid Message:\"\u001b[0m\u001b[0;34m,\u001b[0m \u001b[0mexc_info\u001b[0m\u001b[0;34m=\u001b[0m\u001b[0;32mTrue\u001b[0m\u001b[0;34m)\u001b[0m\u001b[0;34m\u001b[0m\u001b[0;34m\u001b[0m\u001b[0m\n",
            "\u001b[0;31mKeyboardInterrupt\u001b[0m: Interrupted by user"
          ]
        }
      ]
    },
    {
      "cell_type": "code",
      "source": [
        "#wap to count the occurance of each alphabet in a string\n",
        "\n",
        "str1=input(\"Enter the string : \")\n",
        "d={}\n",
        "for i in str1.lower():\n",
        "  if i not in d:\n",
        "    a=str1.count(i)\n",
        "    d[i]=a\n",
        "print(d)\n"
      ],
      "metadata": {
        "colab": {
          "base_uri": "https://localhost:8080/"
        },
        "id": "RkACPSf8dAhJ",
        "outputId": "5a43b1d3-d0f8-410c-e289-84ea1a732ae1"
      },
      "execution_count": 60,
      "outputs": [
        {
          "output_type": "stream",
          "name": "stdout",
          "text": [
            "Enter the string : hello\n",
            "{'h': 1, 'e': 1, 'l': 2, 'o': 1}\n"
          ]
        }
      ]
    },
    {
      "cell_type": "code",
      "source": [
        "n=int(input(\"Enter the number :\"))\n",
        "if n==0:\n",
        "  print(\"Insomania\")\n",
        "  exit()\n",
        "st=set()\n",
        "i=1\n",
        "while (len(st)<10):\n",
        "  p=n*i\n",
        "  i=i+1\n",
        "  st.update(list(str(p)))\n",
        "print(p)\n",
        "\n",
        "\n"
      ],
      "metadata": {
        "colab": {
          "base_uri": "https://localhost:8080/"
        },
        "id": "G19ODaq5hiN4",
        "outputId": "67db0b15-45d8-48b8-b46d-46badbe8acb1"
      },
      "execution_count": 91,
      "outputs": [
        {
          "output_type": "stream",
          "name": "stdout",
          "text": [
            "Enter the number :3\n",
            "30\n"
          ]
        }
      ]
    },
    {
      "cell_type": "code",
      "source": [],
      "metadata": {
        "id": "aQCm-cjMosd6"
      },
      "execution_count": null,
      "outputs": []
    }
  ]
}